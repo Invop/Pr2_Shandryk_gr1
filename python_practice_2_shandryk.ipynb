{
 "nbformat": 4,
 "nbformat_minor": 0,
 "metadata": {
  "colab": {
   "provenance": [],
   "toc_visible": true
  },
  "kernelspec": {
   "name": "python3",
   "language": "python",
   "display_name": "Python 3 (ipykernel)"
  },
  "language_info": {
   "name": "python"
  }
 },
 "cells": [
  {
   "cell_type": "markdown",
   "source": [
    "# I. Змінні та памʼять."
   ],
   "metadata": {
    "id": "p9wwt0LZzNvn"
   }
  },
  {
   "cell_type": "markdown",
   "source": [
    "1. Створити змінні, що посилаються на два цілих числа, що однакові за значенням, де значення належить проміжку від -5 до 256. Перевірте, чи будуть ці змінні рівні тільки за значенням або ж ще будуть посилатися на один і той самий обʼєкт в памʼяті? Наведіть код та дайте текстову відповідь нижче."
   ],
   "metadata": {
    "id": "HTJrrm95xSV9"
   }
  },
  {
   "cell_type": "code",
   "execution_count": 3,
   "metadata": {
    "id": "TATni2vzayjG",
    "colab": {
     "base_uri": "https://localhost:8080/"
    },
    "outputId": "fac8df3f-02d1-4a1e-95ab-fd324be49750",
    "ExecuteTime": {
     "end_time": "2024-02-11T16:10:14.065397200Z",
     "start_time": "2024-02-11T16:10:14.003965400Z"
    }
   },
   "outputs": [
    {
     "name": "stdout",
     "output_type": "stream",
     "text": [
      "Значення рівні: True\n",
      "Посилання на один і той самий об'єкт в пам'яті: True\n"
     ]
    }
   ],
   "source": [
    "a = 42\n",
    "b = 42\n",
    "are_equal = a == b\n",
    "are_same = a is b\n",
    "print(\"Значення рівні:\", are_equal)\n",
    "print(\"Посилання на один і той самий об'єкт в пам'яті:\", are_same)\n"
   ]
  },
  {
   "cell_type": "markdown",
   "source": [
    "*місце для текстової відповіді\\\n",
    "У даному випадку змінні 'a' та 'b' визначені з однаковим значенням 42, що входить в проміжок Python для кешування цілих чисел. Таким чином, вони не тільки мають однакове значення, але і посилаються на один й той самий об'єкт в пам'яті."
   ],
   "metadata": {
    "id": "zfRG_o3WbRdg"
   }
  },
  {
   "cell_type": "markdown",
   "source": [
    "2. За допомогою якої функції можна перевірити належність змінної до вказаного типу даних (напр. чи змінна True посилається на значення булевого та цілочисленого типу)?"
   ],
   "metadata": {
    "id": "ISORzt6M3vAt"
   }
  },
  {
   "cell_type": "code",
   "source": [
    "c1 = 1\n",
    "if isinstance(c1, (bool, int)):\n",
    "    print(\"Змінна належить до булевого або цілочисельного типу.\")\n",
    "else:\n",
    "    print(\"Змінна не належить до булевого або цілочисельного типу.\")\n",
    "c2 = \"hello\"\n",
    "if isinstance(c2, (bool, int)):\n",
    "    print(\"Змінна належить до булевого або цілочисельного типу.\")\n",
    "else:\n",
    "    print(\"Змінна не належить до булевого або цілочисельного типу.\")"
   ],
   "metadata": {
    "id": "9vL9CFaMbfyo",
    "colab": {
     "base_uri": "https://localhost:8080/"
    },
    "outputId": "a0a7a4bc-f1a6-43ea-8711-d2b2142c5519",
    "ExecuteTime": {
     "end_time": "2024-02-11T16:10:14.092559500Z",
     "start_time": "2024-02-11T16:10:14.070560Z"
    }
   },
   "execution_count": 4,
   "outputs": [
    {
     "name": "stdout",
     "output_type": "stream",
     "text": [
      "Змінна належить до булевого або цілочисельного типу.\n",
      "Змінна не належить до булевого або цілочисельного типу.\n"
     ]
    }
   ]
  },
  {
   "cell_type": "markdown",
   "source": [
    "# II. Цілі числа та числа з рухомою комою"
   ],
   "metadata": {
    "id": "tRxugKAxwYLw"
   }
  },
  {
   "cell_type": "markdown",
   "source": [
    "3. Створити дві змінні, що посилаються на будь-які ціле число та число з рухомою комою та продемонструвати такі арифметичні операції: додавання, віднімання, ділення, множення, ділення без залишку, ділення по модулю, приведення до ступеню. Всі результати операцій вивести на екран."
   ],
   "metadata": {
    "id": "NLHkgd5Gybc8"
   }
  },
  {
   "cell_type": "code",
   "source": [
    "integer_var = 6\n",
    "float_var = 2.5\n",
    "\n",
    "addition_result = integer_var + float_var\n",
    "print(\"Додавання:\", addition_result)\n",
    "\n",
    "subtraction_result = integer_var - float_var\n",
    "print(\"Віднімання:\", subtraction_result)\n",
    "\n",
    "division_result = integer_var / float_var\n",
    "print(\"Ділення:\", division_result)\n",
    "\n",
    "multiplication_result = integer_var * float_var\n",
    "print(\"Множення:\", multiplication_result)\n",
    "\n",
    "floor_division_result = integer_var // float_var\n",
    "print(\"Ділення без залишку:\", floor_division_result)\n",
    "\n",
    "modulus_result = integer_var % float_var\n",
    "print(\"Ділення по модулю:\", modulus_result)\n",
    "\n",
    "exponentiation_result1 = integer_var ** 2\n",
    "print(\"Приведення до ступеню(int):\", exponentiation_result1)\n",
    "exponentiation_result2 = float_var ** 2\n",
    "print(\"Приведення до ступеню(int):\", exponentiation_result2)\n"
   ],
   "metadata": {
    "id": "nb8u_3pjb2cA",
    "colab": {
     "base_uri": "https://localhost:8080/"
    },
    "outputId": "ae46beee-b751-4bff-9706-5950dd89779a",
    "ExecuteTime": {
     "end_time": "2024-02-11T16:10:14.123333500Z",
     "start_time": "2024-02-11T16:10:14.094559700Z"
    }
   },
   "execution_count": 5,
   "outputs": [
    {
     "name": "stdout",
     "output_type": "stream",
     "text": [
      "Додавання: 8.5\n",
      "Віднімання: 3.5\n",
      "Ділення: 2.4\n",
      "Множення: 15.0\n",
      "Ділення без залишку: 2.0\n",
      "Ділення по модулю: 1.0\n",
      "Приведення до ступеню(int): 36\n",
      "Приведення до ступеню(int): 6.25\n"
     ]
    }
   ]
  },
  {
   "cell_type": "markdown",
   "source": [
    "4. Використовуючи змінні з вправи 3, продемонструйте механізм явного перетворення типів, де числа з рухомою комою перетворюються на цілі числа. Також визначте змінну, що посилається на значення булевого типу і спробуйте явно привести її до цілого числа."
   ],
   "metadata": {
    "id": "1kBClKgPzZnC"
   }
  },
  {
   "cell_type": "code",
   "source": [
    "converted_float_to_int = int(float_var)\n",
    "print(\"Перетворення числа з рухомою комою на ціле число:\", converted_float_to_int)\n",
    "\n",
    "boolean_var = True\n",
    "\n",
    "converted_boolean_to_int = int(boolean_var)\n",
    "print(\"Перетворення булевого значення на ціле число:\", converted_boolean_to_int)"
   ],
   "metadata": {
    "id": "TbqJbkeUcKsD",
    "colab": {
     "base_uri": "https://localhost:8080/"
    },
    "outputId": "117af203-04b6-4335-b239-0111af809376",
    "ExecuteTime": {
     "end_time": "2024-02-11T16:10:14.156472200Z",
     "start_time": "2024-02-11T16:10:14.124333500Z"
    }
   },
   "execution_count": 6,
   "outputs": [
    {
     "name": "stdout",
     "output_type": "stream",
     "text": [
      "Перетворення числа з рухомою комою на ціле число: 2\n",
      "Перетворення булевого значення на ціле число: 1\n"
     ]
    }
   ]
  },
  {
   "cell_type": "markdown",
   "source": [
    "# IІІ. Рядки (String)."
   ],
   "metadata": {
    "id": "EVJ7AflwxrZi"
   }
  },
  {
   "cell_type": "markdown",
   "source": [
    "5. Створити пустий рядок двома різними способами."
   ],
   "metadata": {
    "id": "_s5ECzz9zE61"
   }
  },
  {
   "cell_type": "code",
   "source": [
    "f1=\"\"\n",
    "f2=''"
   ],
   "metadata": {
    "id": "fkZJHu9Scvc-",
    "ExecuteTime": {
     "end_time": "2024-02-11T16:10:14.169202700Z",
     "start_time": "2024-02-11T16:10:14.157468100Z"
    }
   },
   "execution_count": 7,
   "outputs": []
  },
  {
   "cell_type": "markdown",
   "source": [
    "6. Створити рядок з апострофом. Зробити його сирим. Вивести обидва рядка на екран."
   ],
   "metadata": {
    "id": "4Bdn9J3MzLf_"
   }
  },
  {
   "cell_type": "code",
   "source": [
    "\n",
    "str_with_apostrophe = \"It`s a string with an \\n apostrophe.\"\n",
    "\n",
    "raw_str = r\"It`s a raw string with an apostrophe.\\n\"\n",
    "\n",
    "print(str_with_apostrophe)\n",
    "print(raw_str)"
   ],
   "metadata": {
    "id": "ivji_hsmc0GH",
    "colab": {
     "base_uri": "https://localhost:8080/"
    },
    "outputId": "eb01f8bc-2d9a-4281-d64e-38c89ee3d3d3",
    "ExecuteTime": {
     "end_time": "2024-02-11T16:10:14.170215700Z",
     "start_time": "2024-02-11T16:10:14.162683900Z"
    }
   },
   "execution_count": 8,
   "outputs": [
    {
     "name": "stdout",
     "output_type": "stream",
     "text": [
      "It`s a string with an \n",
      " apostrophe.\n",
      "It`s a raw string with an apostrophe.\\n\n"
     ]
    }
   ]
  },
  {
   "cell_type": "markdown",
   "source": [
    "7. Створити змінну, що буде посилатися на Ваше прізвище латинкою. Створити форматований рядок, який буде мати вигляд \"My surname is ______\", де на місці нижніх підкреслень буде Ваше прізвище зі змінної."
   ],
   "metadata": {
    "id": "bg_d8wM4z8dS"
   }
  },
  {
   "cell_type": "code",
   "source": [
    "\n",
    "surname = \"Shandryk\"\n",
    "formatted_str = f\"My surname is {surname}\"\n",
    "print(formatted_str)"
   ],
   "metadata": {
    "id": "kuxFgpWndACq",
    "colab": {
     "base_uri": "https://localhost:8080/"
    },
    "outputId": "a24b5f81-c36d-4f2b-ea8a-05bc37a72c48",
    "ExecuteTime": {
     "end_time": "2024-02-11T16:10:14.183920200Z",
     "start_time": "2024-02-11T16:10:14.173196900Z"
    }
   },
   "execution_count": 9,
   "outputs": [
    {
     "name": "stdout",
     "output_type": "stream",
     "text": [
      "My surname is Shandryk\n"
     ]
    }
   ]
  },
  {
   "cell_type": "markdown",
   "source": [
    "8. Маючи рядок \"My dog is crazy.\" перетворити його на список [\"my\", \"dog\", \"is\", \"crazy\"]"
   ],
   "metadata": {
    "id": "1Nc6RqvQ0hxU"
   }
  },
  {
   "cell_type": "code",
   "source": [
    "sentence = \"My dog is crazy.\"\n",
    "words_list = sentence.split()\n",
    "print(words_list)"
   ],
   "metadata": {
    "id": "w1Ya4RqedUhw",
    "colab": {
     "base_uri": "https://localhost:8080/"
    },
    "outputId": "baa78a14-6508-4915-9abe-07b5156a9906",
    "ExecuteTime": {
     "end_time": "2024-02-11T16:10:14.183920200Z",
     "start_time": "2024-02-11T16:10:14.176104800Z"
    }
   },
   "execution_count": 10,
   "outputs": [
    {
     "name": "stdout",
     "output_type": "stream",
     "text": [
      "['My', 'dog', 'is', 'crazy.']\n"
     ]
    }
   ]
  },
  {
   "cell_type": "markdown",
   "source": [
    "# IV. Робота зі списками."
   ],
   "metadata": {
    "id": "GYVqN9uP1D4n"
   }
  },
  {
   "cell_type": "markdown",
   "source": [
    "9. Створити список двома різними за синтаксисом способами. За допомогою вбудованої функції обчисліть довжину одного з них."
   ],
   "metadata": {
    "id": "7-DeDunw2sO-"
   }
  },
  {
   "cell_type": "code",
   "source": [
    "\n",
    "list1 = [1, 2, 3, 4, 5]\n",
    "list2 = list((6, 7, 8, 9, 10))\n",
    "\n",
    "print(list1)\n",
    "print(list2)"
   ],
   "metadata": {
    "id": "zxg06Uuxdyoh",
    "colab": {
     "base_uri": "https://localhost:8080/"
    },
    "outputId": "83d6dba0-f53d-4d49-f210-3ec9cbfb6b8d",
    "ExecuteTime": {
     "end_time": "2024-02-11T16:10:14.229420100Z",
     "start_time": "2024-02-11T16:10:14.187033900Z"
    }
   },
   "execution_count": 11,
   "outputs": [
    {
     "name": "stdout",
     "output_type": "stream",
     "text": [
      "[1, 2, 3, 4, 5]\n",
      "[6, 7, 8, 9, 10]\n"
     ]
    }
   ]
  },
  {
   "cell_type": "markdown",
   "source": [
    "10. Створіть два списка та за допомогою спеціального методу додайте другий з них в якості останнього елемента першого."
   ],
   "metadata": {
    "id": "8vmGUTjL22gI"
   }
  },
  {
   "cell_type": "code",
   "source": [
    "list1.append(list2)\n",
    "print(list1)"
   ],
   "metadata": {
    "id": "uHtjWYw7d7hm",
    "colab": {
     "base_uri": "https://localhost:8080/"
    },
    "outputId": "ed250966-d918-46c3-e323-285ca7b5846c",
    "ExecuteTime": {
     "end_time": "2024-02-11T16:10:14.230420900Z",
     "start_time": "2024-02-11T16:10:14.189555700Z"
    }
   },
   "execution_count": 12,
   "outputs": [
    {
     "name": "stdout",
     "output_type": "stream",
     "text": [
      "[1, 2, 3, 4, 5, [6, 7, 8, 9, 10]]\n"
     ]
    }
   ]
  },
  {
   "cell_type": "markdown",
   "source": [
    "11. Створіть список, де елементами цього списку також є списки. Отримай перший елемент з останнього рядка та виведи значення на екран."
   ],
   "metadata": {
    "id": "JC3BkD-67_--"
   }
  },
  {
   "cell_type": "code",
   "source": [
    "arr = [[1, 2, 3], [4, 5, 6], [7, 8, 9]]\n",
    "first_element = arr[-1][0]\n",
    "print(first_element)"
   ],
   "metadata": {
    "id": "Kz2jZHsGeLlz",
    "colab": {
     "base_uri": "https://localhost:8080/"
    },
    "outputId": "43227669-d495-4398-acf0-136dfdaa3fa5",
    "ExecuteTime": {
     "end_time": "2024-02-11T16:10:14.243941500Z",
     "start_time": "2024-02-11T16:10:14.232421600Z"
    }
   },
   "execution_count": 13,
   "outputs": [
    {
     "name": "stdout",
     "output_type": "stream",
     "text": [
      "7\n"
     ]
    }
   ]
  },
  {
   "cell_type": "markdown",
   "source": [
    "12. Створіть список з десяти елементів різного типу. Отримайте всі елементи, окрім двох перших та двох останніх та збережіть їх в новій змінній."
   ],
   "metadata": {
    "id": "JA47PKTv8zFK"
   }
  },
  {
   "cell_type": "code",
   "source": [
    "original_list = [1, \"two\", 3.0, \"four\", True, [6], {\"seven\": 7}, (8,), 9, \"ten\"]\n",
    "sliced_list = original_list[2:-2]\n",
    "print(sliced_list)"
   ],
   "metadata": {
    "id": "_rHdUR-ueP4-",
    "colab": {
     "base_uri": "https://localhost:8080/"
    },
    "outputId": "2666f4f0-20f7-4e96-9b3f-02f4e60d04f8",
    "ExecuteTime": {
     "end_time": "2024-02-11T16:10:14.258191Z",
     "start_time": "2024-02-11T16:10:14.245519700Z"
    }
   },
   "execution_count": 14,
   "outputs": [
    {
     "name": "stdout",
     "output_type": "stream",
     "text": [
      "[3.0, 'four', True, [6], {'seven': 7}, (8,)]\n"
     ]
    }
   ]
  },
  {
   "cell_type": "markdown",
   "source": [
    "# V. Робота з кортежами."
   ],
   "metadata": {
    "id": "pCjR1dJb1Qbi"
   }
  },
  {
   "cell_type": "markdown",
   "source": [
    "14. Створити кортеж з один елементом."
   ],
   "metadata": {
    "id": "fAZCxAX06R_k"
   }
  },
  {
   "cell_type": "code",
   "source": [
    "single_element_tuple = (1,)\n",
    "print(single_element_tuple)"
   ],
   "metadata": {
    "id": "H7d82WkQev3e",
    "colab": {
     "base_uri": "https://localhost:8080/"
    },
    "outputId": "b549eb61-82a5-460e-e143-b2e7c5f97ca6",
    "ExecuteTime": {
     "end_time": "2024-02-11T16:10:14.306887500Z",
     "start_time": "2024-02-11T16:10:14.248030500Z"
    }
   },
   "execution_count": 15,
   "outputs": [
    {
     "name": "stdout",
     "output_type": "stream",
     "text": [
      "(1,)\n"
     ]
    }
   ]
  },
  {
   "cell_type": "markdown",
   "source": [
    "15. Порівняйте список та кортеж. Назвіть схожості та відмінності, випадки використання."
   ],
   "metadata": {
    "id": "8LCtYcmI6w1M"
   }
  },
  {
   "cell_type": "markdown",
   "source": [
    "*місце для текстової відповіді\\\n",
    "Листи та кортежі є колекціями об'єктів, що можуть містити будь-які типи даних та підтримують його індексацію, де можна звернутися до будь-якого елемента за його місцем в колекції.\\\n",
    "Основною відмінністю між списками та кортежами в Python є те, є відміннояті в змінності: списки є mutable, що дозволяє модифікувати їх вміст після створення, тоді як кортежі є immutable, що робить їх вміст статичним після ініціалізації.\n"
   ],
   "metadata": {
    "id": "fUsN1Hnue0C6"
   }
  },
  {
   "cell_type": "markdown",
   "source": [
    "16. Створіть кортеж з 11ти елементів чисел з рухомою комою та отримайте кожен парний за індексом елемент в зворотньому порядку. Наприклад, маючи (1.2, 2.3, 3.3, 4.3, 5.3, 6.3, 7.3, 8.3, 9.3, 0.3), отримати (0.3, 8.3, 6.3, 4.3, 2.3). Результат збережіть в нову змінну та виведіть на екран."
   ],
   "metadata": {
    "id": "m0xrwFijAmDD"
   }
  },
  {
   "cell_type": "code",
   "source": [
    "tuple_values = (1.1, 2.2, 3.3, 4.4, 5.5, 6.6, 7.7, 8.8, 9.9, 10.0, 11.1)\n",
    "result = tuple_values[::-2]\n",
    "print(result)"
   ],
   "metadata": {
    "id": "p-5DAH6XfAGA",
    "colab": {
     "base_uri": "https://localhost:8080/"
    },
    "outputId": "31e4ea82-5316-4b5b-c525-9b869f95aeb4",
    "ExecuteTime": {
     "end_time": "2024-02-11T16:10:14.309896200Z",
     "start_time": "2024-02-11T16:10:14.261360900Z"
    }
   },
   "execution_count": 16,
   "outputs": [
    {
     "name": "stdout",
     "output_type": "stream",
     "text": [
      "(11.1, 9.9, 7.7, 5.5, 3.3, 1.1)\n"
     ]
    }
   ]
  },
  {
   "cell_type": "markdown",
   "source": [
    "# VI. Множини (Set)."
   ],
   "metadata": {
    "id": "rW_I9dt3x6cW"
   }
  },
  {
   "cell_type": "markdown",
   "source": [
    "17. Створити множину без елементів. Після цого за допомогою методу додайте кілька різних елементів до множини. Чи множини є змінним типом даних?"
   ],
   "metadata": {
    "id": "zNjRLHLw1Bgg"
   }
  },
  {
   "cell_type": "code",
   "source": [
    "s = set()\n",
    "s.add(\"apple\")\n",
    "s.add(\"banana\")\n",
    "s.add(1)\n",
    "\n",
    "print(s)"
   ],
   "metadata": {
    "id": "KOv7zc2Kfo4N",
    "colab": {
     "base_uri": "https://localhost:8080/"
    },
    "outputId": "ab293ca1-d89b-4365-fbc7-d105fc14fc81",
    "ExecuteTime": {
     "end_time": "2024-02-11T16:10:14.340742800Z",
     "start_time": "2024-02-11T16:10:14.310890400Z"
    }
   },
   "execution_count": 17,
   "outputs": [
    {
     "name": "stdout",
     "output_type": "stream",
     "text": [
      "{1, 'apple', 'banana'}\n"
     ]
    }
   ]
  },
  {
   "cell_type": "markdown",
   "source": [
    "*місце для текстової відповіді"
   ],
   "metadata": {
    "id": "vxS6dVYiftZQ"
   }
  },
  {
   "cell_type": "markdown",
   "source": [
    "18. Створити множину, маючи список my_list = [1, 1, 2, 67, 67, 8, 9]. Пояснити, чому \"зникли\" деякі елементи."
   ],
   "metadata": {
    "id": "gHpT0Zw_1HEF"
   }
  },
  {
   "cell_type": "code",
   "source": [
    "my_list = [1, 1, 2, 67, 67, 8, 9]\n",
    "my_set = set(my_list)\n",
    "\n",
    "print(my_set)"
   ],
   "metadata": {
    "id": "qCN4uvJ_fxmu",
    "colab": {
     "base_uri": "https://localhost:8080/"
    },
    "outputId": "5236e672-9a87-45ac-e71e-16109ec55e97",
    "ExecuteTime": {
     "end_time": "2024-02-11T16:10:14.367003600Z",
     "start_time": "2024-02-11T16:10:14.342740400Z"
    }
   },
   "execution_count": 18,
   "outputs": [
    {
     "name": "stdout",
     "output_type": "stream",
     "text": [
      "{1, 2, 67, 8, 9}\n"
     ]
    }
   ]
  },
  {
   "cell_type": "markdown",
   "source": [
    "*місце для текстової відповіді\\\n",
    "Дублювані елементи автоматично видаляються в множині Python."
   ],
   "metadata": {
    "id": "tFNc1e20fyny"
   }
  },
  {
   "cell_type": "markdown",
   "source": [
    "19. Створіть дві множини. Продемонстуйте над ними операції: обʼєднання, різниці, пересічі та симетричної різниці. Використовуйте методи, що не змінюють множини, а створюють нові."
   ],
   "metadata": {
    "id": "SRMkGizS1UwY"
   }
  },
  {
   "cell_type": "code",
   "source": [
    "\n",
    "set1 = {1, 2, 3, 4, 5}\n",
    "set2 = {4, 5, 6, 7, 8}\n",
    "\n",
    "union_set = set1.union(set2)\n",
    "print(\"Union:\", union_set)\n",
    "\n",
    "difference_set = set1.difference(set2)\n",
    "print(\"Difference:\", difference_set)\n",
    "\n",
    "intersection_set = set1.intersection(set2)\n",
    "print(\"Intersection:\", intersection_set)\n",
    "symmetric_difference_set = set1.symmetric_difference(set2)\n",
    "print(\"Symmetric Difference:\", symmetric_difference_set)"
   ],
   "metadata": {
    "id": "h0T-VuDnf3Ri",
    "colab": {
     "base_uri": "https://localhost:8080/"
    },
    "outputId": "d43388bb-ffa2-4954-9599-365545373757",
    "ExecuteTime": {
     "end_time": "2024-02-11T16:10:14.395185400Z",
     "start_time": "2024-02-11T16:10:14.370004800Z"
    }
   },
   "execution_count": 19,
   "outputs": [
    {
     "name": "stdout",
     "output_type": "stream",
     "text": [
      "Union: {1, 2, 3, 4, 5, 6, 7, 8}\n",
      "Difference: {1, 2, 3}\n",
      "Intersection: {4, 5}\n",
      "Symmetric Difference: {1, 2, 3, 6, 7, 8}\n"
     ]
    }
   ]
  },
  {
   "cell_type": "markdown",
   "source": [
    "# VII. Словники (Dictionary)."
   ],
   "metadata": {
    "id": "kWc8gkzTx7Ea"
   }
  },
  {
   "cell_type": "markdown",
   "source": [
    "20. Створіть пустий словник. До нього додайте чотири пари елементів такі, щоб їхні ключі були різних типів. Чи може список бути ключем? Чому?"
   ],
   "metadata": {
    "id": "i5FLwj-B2ybQ"
   }
  },
  {
   "cell_type": "code",
   "source": [
    "my_dict = {}\n",
    "my_dict[\"key1\"] = \"value1\"\n",
    "my_dict[1] = \"value2\"\n",
    "my_dict[1.1] = \"value3\"\n",
    "my_dict[(1,2)] = \"value4\""
   ],
   "metadata": {
    "id": "hxgv3BzrgLAV",
    "ExecuteTime": {
     "end_time": "2024-02-11T16:10:14.424550Z",
     "start_time": "2024-02-11T16:10:14.396187100Z"
    }
   },
   "execution_count": 20,
   "outputs": []
  },
  {
   "cell_type": "markdown",
   "source": [
    "*місце для текстової відповіді\\\n",
    "ключі словника мають бути immutable\\\n",
    "список є mutable"
   ],
   "metadata": {
    "id": "zwa7UVN-gR3m"
   }
  },
  {
   "cell_type": "markdown",
   "source": [
    "21. Створіть словник, де значенням в одній з пар теж буде словник, який теж має вкладений словник. Виведіть на екран значення, що міститься в словнику, що знаходиться на найнижчому рівні ієрархії вкладеності (найбільш внутрішній)."
   ],
   "metadata": {
    "id": "WM_pMlJsgoNf"
   }
  },
  {
   "cell_type": "code",
   "source": [
    "my_dict = {\n",
    "    \"key1\": \"value1\",\n",
    "    \"key2\": {\n",
    "        \"subkey1\": \"subvalue1\",\n",
    "        \"subkey2\": {\n",
    "            \"subsubkey1\": \"subsubvalue1\"\n",
    "        }\n",
    "    }\n",
    "}\n",
    "print(my_dict[\"key2\"][\"subkey2\"][\"subsubkey1\"])"
   ],
   "metadata": {
    "id": "60dlP7IHhAy4",
    "colab": {
     "base_uri": "https://localhost:8080/"
    },
    "outputId": "90efab5d-5683-4555-9eb4-07640b5ba196",
    "ExecuteTime": {
     "end_time": "2024-02-11T16:10:14.434769Z",
     "start_time": "2024-02-11T16:10:14.426532300Z"
    }
   },
   "execution_count": 21,
   "outputs": [
    {
     "name": "stdout",
     "output_type": "stream",
     "text": [
      "subsubvalue1\n"
     ]
    }
   ]
  },
  {
   "cell_type": "markdown",
   "source": [
    "# Вітаю! Ви велика(ий) молодець, що впоралась(вся). Похваліть себе та побалуйте чимось приємним. Я Вами пишаюся."
   ],
   "metadata": {
    "id": "xOZP0hkx6cCr"
   }
  }
 ]
}
